{
  "cells": [
    {
      "cell_type": "markdown",
      "metadata": {
        "id": "view-in-github",
        "colab_type": "text"
      },
      "source": [
        "<a href=\"https://colab.research.google.com/github/Christinee25/PythonDQlab_Belajar-Mandiri/blob/main/Belajar_python_dqlab.ipynb\" target=\"_parent\"><img src=\"https://colab.research.google.com/assets/colab-badge.svg\" alt=\"Open In Colab\"/></a>"
      ]
    },
    {
      "cell_type": "code",
      "execution_count": null,
      "metadata": {
        "colab": {
          "base_uri": "https://localhost:8080/"
        },
        "id": "YzONnTp25pSb",
        "outputId": "64c556ed-34f3-4a24-c5a5-9a96fa5461b0"
      },
      "outputs": [
        {
          "name": "stdout",
          "output_type": "stream",
          "text": [
            ">>> Membaca file hello.txt dengan fungsi read()\n",
            "Kita sedang belajar Python\n",
            "Tepatnya belajar memanipulasi berkas teks\n",
            "Memanipulasi berkas dengan Python sangatlah mudah!\n"
          ]
        }
      ],
      "source": [
        "# Membaca file hello.txt dengan fungsi read()\n",
        "print(\">>> Membaca file hello.txt dengan fungsi read()\")\n",
        "file = open(\"hello.txt\", \"r\")\n",
        "content = file.read()\n",
        "file.close()\n",
        "print(content)"
      ]
    },
    {
      "cell_type": "code",
      "source": [],
      "metadata": {
        "id": "kp12jyj2Jmn3"
      },
      "execution_count": null,
      "outputs": []
    },
    {
      "cell_type": "code",
      "execution_count": null,
      "metadata": {
        "id": "rz2oDwGKJrRx"
      },
      "outputs": [],
      "source": []
    },
    {
      "cell_type": "code",
      "execution_count": null,
      "metadata": {
        "id": "dR3tp-tI8yEc"
      },
      "outputs": [],
      "source": [
        "# Membaca file hello.txt dengan fungsi readline()\n",
        "print(\">>> Membaca file hello.txt dengan fungsi readline()\")\n",
        "file = open(\"hello.txt\", \"r\")"
      ]
    },
    {
      "cell_type": "code",
      "execution_count": null,
      "metadata": {
        "colab": {
          "base_uri": "https://localhost:8080/",
          "height": 141
        },
        "id": "LWSJfRz7Jsra",
        "outputId": "a705bd06-ad26-4192-ee4d-60befebab56f"
      },
      "outputs": [
        {
          "ename": "IndentationError",
          "evalue": "unexpected indent (<ipython-input-30-28b415cbd32d>, line 2)",
          "output_type": "error",
          "traceback": [
            "\u001b[0;36m  File \u001b[0;32m\"<ipython-input-30-28b415cbd32d>\"\u001b[0;36m, line \u001b[0;32m2\u001b[0m\n\u001b[0;31m    file = open(\"hello.txt\", \"w\")\u001b[0m\n\u001b[0m    ^\u001b[0m\n\u001b[0;31mIndentationError\u001b[0m\u001b[0;31m:\u001b[0m unexpected indent\n"
          ]
        }
      ],
      "source": [
        "# Menulis ke file hello.txt\n",
        "  file = open(\"hello.txt\", \"w\")\n",
        "  file.write([\"Sekarang kita belajar menulis dengan menggunakan Python\"])\n",
        "  file.write([\"Menulis konten file dengan mode w (write).\"])\n",
        "  file.close()\n",
        "  file = open(\"hello.txt\",\"r\")\n"
      ]
    },
    {
      "cell_type": "code",
      "execution_count": null,
      "metadata": {
        "id": "mljeOrC84blM"
      },
      "outputs": [],
      "source": []
    },
    {
      "cell_type": "code",
      "execution_count": null,
      "metadata": {
        "id": "0yUzSmD7J-gc"
      },
      "outputs": [],
      "source": [
        "        file = open(\"hello.txt\", \"a\")\n",
        "        file.writelines([\n",
        "        \"Sekarang kita belajar menulis dengan menggunakan Python\",\n",
        "        \"Menulis konten file dengan mode a (append).\"\n",
        "        ])\n",
        "        file.close()\n"
      ]
    },
    {
      "cell_type": "code",
      "execution_count": null,
      "metadata": {
        "colab": {
          "base_uri": "https://localhost:8080/"
        },
        "id": "BRtRoLxrK8ir",
        "outputId": "c3c4c6b7-f75e-474f-9629-ffc87d9da1e2"
      },
      "outputs": [
        {
          "name": "stdout",
          "output_type": "stream",
          "text": [
            "Halo\n",
            "\n",
            "Belajar Python\n",
            "\n",
            "Menyenangkan!\n",
            "\n"
          ]
        }
      ],
      "source": [
        "file = open(\"hello.txt\",\"w\")\n",
        "file.writelines([\"Halo\\n\", \"Belajar Python\\n\", \"Menyenangkan!\\n\"])\n",
        "file.close()\n",
        "file = open(\"hello.txt\",\"r\")\n",
        "for line in file:\n",
        "    print(line)\n",
        "\n"
      ]
    },
    {
      "cell_type": "code",
      "execution_count": null,
      "metadata": {
        "colab": {
          "base_uri": "https://localhost:8080/"
        },
        "id": "DzClNbp7MlP0",
        "outputId": "012a0a2f-ea2b-419a-ccfa-39c3908f2c48"
      },
      "outputs": [
        {
          "name": "stdout",
          "output_type": "stream",
          "text": [
            "Menulis ke dalam file\n",
            "\n",
            "menggunakan Python\n"
          ]
        }
      ],
      "source": [
        "file = open(\"hello.txt\",\"w\")\n",
        "file.writelines([\"Halo\", \"Belajar Python\", \"Menyenangkan!\"])\n",
        "file.close()\n",
        "file = open(\"hello.txt\",\"w\")\n",
        "file.writelines([\"Menulis ke dalam file\\n\"])\n",
        "file.writelines([\"menggunakan Python\"])\n",
        "file = open(\"hello.txt\",\"r\")\n",
        "for line in file:\n",
        "    print(line)"
      ]
    },
    {
      "cell_type": "code",
      "execution_count": null,
      "metadata": {
        "colab": {
          "base_uri": "https://localhost:8080/"
        },
        "id": "naoHgO-EWekN",
        "outputId": "8424260f-ac7e-4e10-8bfe-52d1d2c1f9f3"
      },
      "outputs": [
        {
          "name": "stdout",
          "output_type": "stream",
          "text": [
            "16.0\n"
          ]
        }
      ],
      "source": [
        "import math\n",
        "x = [2.22,-3.33,4.44,-5.55]\n",
        "total = 0\n",
        "for i in x:\n",
        "    total += math.ceil(i)\n",
        "print(total)\n"
      ]
    },
    {
      "cell_type": "code",
      "execution_count": null,
      "metadata": {
        "colab": {
          "base_uri": "https://localhost:8080/"
        },
        "id": "NYm6PPQFbHrz",
        "outputId": "e443fc96-db09-4868-ee19-1bfa3e6b2892"
      },
      "outputs": [
        {
          "name": "stdout",
          "output_type": "stream",
          "text": [
            "[1, 10.9, 'Robotik', 'c'] <class 'list'>\n",
            "10.9\n",
            "[1, 10.9, 'Indonesia', 'c']\n",
            "[1, 10.9, 'Indonesia', 'c', 'RobotikID']\n",
            "[1, 10.9, 'Indonesia', 'RobotikID']\n",
            "[1, 'Indonesia', 'RobotikID']\n",
            "3\n",
            "2\n"
          ]
        }
      ],
      "source": [
        "my_list = [1, 10.9, \"Robotik\", 'c']\n",
        "print(my_list, type(my_list))\n",
        "print(my_list[1])\n",
        "\n",
        "my_list[2] = \"Indonesia\"\n",
        "print(my_list)\n",
        "\n",
        "my_list.append(\"RobotikID\")\n",
        "print(my_list)\n",
        "\n",
        "my_list.remove('c')\n",
        "print(my_list)\n",
        "\n",
        "my_list.pop(1)\n",
        "print(my_list)\n",
        "\n",
        "panjang = len(my_list)\n",
        "print(panjang)\n",
        "\n",
        "print(my_list.index(\"RobotikID\"))\n",
        "\n"
      ]
    },
    {
      "cell_type": "code",
      "execution_count": null,
      "metadata": {
        "colab": {
          "base_uri": "https://localhost:8080/"
        },
        "id": "uGTGq5ctc-59",
        "outputId": "66783c47-f963-48b3-bee2-d949da5a65cd"
      },
      "outputs": [
        {
          "name": "stdout",
          "output_type": "stream",
          "text": [
            "(1, 10.9, 'Robotik', 'c') <class 'tuple'>\n",
            "10.9\n",
            "(10.9, 'Robotik')\n",
            "3\n"
          ]
        }
      ],
      "source": [
        "my_tuple = (1, 10.9, \"Robotik\", 'c')\n",
        "print(my_tuple, type(my_tuple))\n",
        "\n",
        "print(my_tuple[1])\n",
        "print(my_tuple[1:3])\n",
        "\n",
        "## my_tuple[1] = 10\n",
        "## print(my_tuple)\n",
        "## nb: akan error karna tuple tidak dapat diubah\n",
        "\n",
        "print(my_tuple.index('c'))\n"
      ]
    },
    {
      "cell_type": "code",
      "execution_count": null,
      "metadata": {
        "colab": {
          "base_uri": "https://localhost:8080/"
        },
        "id": "e7tYNlyhe9yy",
        "outputId": "189b3ee7-323e-4787-bc4c-85b0d8435225"
      },
      "outputs": [
        {
          "name": "stdout",
          "output_type": "stream",
          "text": [
            "{1, 10.9, 'c', 'RobotikID'} <class 'set'>\n",
            "{1, 10.9, 10, 'c', 'RobotikID'}\n",
            "{1, 'Indonesia', 10.9, 10, 'c', 'RobotikID'}\n",
            "{'Indonesia', 10.9, 10, 'c', 'RobotikID'}\n",
            "{'Indonesia', 10.9, 10, 'c', 'RobotikID'}\n"
          ]
        }
      ],
      "source": [
        "my_set = {1, 10.9, \"RobotikID\", 'c'}\n",
        "print(my_set, type(my_set))\n",
        "\n",
        "my_set.add(10)\n",
        "print(my_set)\n",
        "\n",
        "my_set.add(\"Indonesia\")\n",
        "print(my_set)\n",
        "\n",
        "my_set.remove(1)\n",
        "print(my_set)\n",
        "\n",
        "my_set.add(\"Indonesia\")\n",
        "print(my_set)\n",
        "\n",
        "## nb: set tidak punya index (tidak ada order data ke-i)\n",
        "##     set nilainya unik, nilai data yg sama tidak akan tertambahkan/ tidak ada data duplikat"
      ]
    },
    {
      "cell_type": "code",
      "execution_count": null,
      "metadata": {
        "colab": {
          "base_uri": "https://localhost:8080/"
        },
        "id": "la-Rlc1sgHMK",
        "outputId": "05728bec-e65c-418c-b5d1-76879b76d750"
      },
      "outputs": [
        {
          "name": "stdout",
          "output_type": "stream",
          "text": [
            "{'key': 'value'} <class 'dict'>\n",
            "{'key': 'value', 'nama': 'Robotik ID', 'alamat': 'Indonesia', 'usia': 7}\n",
            "Robotik ID\n",
            "dict_keys(['key', 'nama', 'alamat', 'usia']) dict_values(['value', 'Robotik ID', 'Indonesia', 7])\n",
            "{'nama': 'Robotik ID', 'alamat': 'Indonesia', 'usia': 7}\n",
            "3\n"
          ]
        }
      ],
      "source": [
        "my_dict = {\n",
        "    \"key\": \"value\"\n",
        "}\n",
        "print(my_dict, type(my_dict))\n",
        "\n",
        "my_dict[\"nama\"] = \"Robotik ID\"\n",
        "my_dict[\"alamat\"] = \"Indonesia\"\n",
        "my_dict[\"usia\"] = 7\n",
        "print(my_dict)\n",
        "\n",
        "print(my_dict[\"nama\"])\n",
        "print(my_dict.keys(), my_dict.values())\n",
        "\n",
        "my_dict.pop(\"key\")\n",
        "print(my_dict)\n",
        "print(len(my_dict))"
      ]
    },
    {
      "cell_type": "code",
      "execution_count": null,
      "metadata": {
        "colab": {
          "base_uri": "https://localhost:8080/"
        },
        "id": "p13LBxUnkJXT",
        "outputId": "3cb0f1e1-1c8d-4c5f-f902-837b4c4501ff"
      },
      "outputs": [
        {
          "name": "stdout",
          "output_type": "stream",
          "text": [
            "[['tanah', 'bangunan', 'jarak_ke_pusat', 'harga'], ['70', '50', '15', '500'], ['70', '60', '30', '400'], ['70', '60', '55', '300'], ['100', '50', '30', '700'], ['100', '70', '25', '1000'], ['100', '70', '50', '650'], ['120', '100', '20', '2000'], ['120', '80', '50', '1200'], ['150', '100', '50', '1800'], ['150', '90', '15', '3000']]\n",
            "[]\n"
          ]
        }
      ],
      "source": [
        "import requests\n",
        "from contextlib import closing\n",
        "import csv\n",
        "# STEP 1:\n",
        "# Baca file \"harga_rumah.txt\"\n",
        "url = \"https://storage.googleapis.com/dqlab-dataset/harga_rumah.txt\"\n",
        "data_harga_rumah = []\n",
        "with closing(requests.get(url, stream=True)) as r:\n",
        "    f = (line.decode('utf-8') for line in r.iter_lines())\n",
        "    data_harga_rumah = [row for row in csv.reader(f)]\n",
        "print(data_harga_rumah)\n",
        "# Buat list of dict dengan nama harga rumah\n",
        "key_harga_rumah = data_harga_rumah[0]\n",
        "harga_rumah = []\n",
        "for baris_harga_rumah in harga_rumah[1:]:\n",
        "\tdict_harga_rumah = dict()\n",
        "\tfor i in range(len(harga_rumah)):\n",
        "\t\tdict_harga_rumah[key_harga_rumah[i]] = data_harga_rumah[i]\n",
        "\tharga_rumah.append(harga_rumah)\n",
        "print(harga_rumah)"
      ]
    },
    {
      "cell_type": "code",
      "execution_count": null,
      "metadata": {
        "colab": {
          "base_uri": "https://localhost:8080/"
        },
        "id": "7nb2Nz6DDTvQ",
        "outputId": "eb9ff1d9-a66f-4b52-e7a3-6173db1c0c28"
      },
      "outputs": [
        {
          "name": "stdout",
          "output_type": "stream",
          "text": [
            "[['tanah', 'bangunan', 'jarak_ke_pusat', 'harga'], ['70', '50', '15', '500'], ['70', '60', '30', '400'], ['70', '60', '55', '300'], ['100', '50', '30', '700'], ['100', '70', '25', '1000'], ['100', '70', '50', '650'], ['120', '100', '20', '2000'], ['120', '80', '50', '1200'], ['150', '100', '50', '1800'], ['150', '90', '15', '3000']]\n",
            "['bangunan', 'jarak_ke_pusat', 'harga']\n",
            "[['tanah', 'bangunan', 'jarak_ke_pusat', 'harga'], ['70', '50', '15', '500'], ['70', '60', '30', '400'], ['70', '60', '55', '300'], ['100', '50', '30', '700'], ['100', '70', '25', '1000'], ['100', '70', '50', '650'], ['120', '100', '20', '2000'], ['120', '80', '50', '1200'], ['150', '100', '50', '1800'], ['150', '90', '15', '3000']]\n"
          ]
        }
      ],
      "source": [
        "import requests\n",
        "from contextlib import closing\n",
        "import csv\n",
        "# STEP 1:\n",
        "# Baca file \"harga_rumah.txt\"\n",
        "url = \"https://storage.googleapis.com/dqlab-dataset/harga_rumah.txt\"\n",
        "data_harga_rumah = []\n",
        "with closing(requests.get(url, stream=True)) as r:\n",
        "    f = (line.decode('utf-8') for line in r.iter_lines())\n",
        "    data_harga_rumah = [row for row in csv.reader(f)]\n",
        "print(data_harga_rumah)\n",
        "# Buat list of dict dengan nama harga rumah\n",
        "key_harga_rumah = data_harga_rumah[0]\n",
        "harga_rumah = []\n",
        "for baris_harga_rumah in key_harga_rumah[1:]:\n",
        "\tdict_harga_rumah = dict()\n",
        "\tfor i in range(len(harga_rumah)):\n",
        "\t\tdict_harga_rumah[key_harga_rumah[i]] = key_harga_rumah[i]\n",
        "\tharga_rumah.append(baris_harga_rumah)\n",
        "print(harga_rumah)\n",
        "print(data_harga_rumah)"
      ]
    },
    {
      "cell_type": "code",
      "execution_count": null,
      "metadata": {
        "colab": {
          "base_uri": "https://localhost:8080/"
        },
        "id": "A3zv7VCYHGnw",
        "outputId": "7f9b33a8-0775-47ec-fc4b-d2cda798fe33"
      },
      "outputs": [
        {
          "name": "stdout",
          "output_type": "stream",
          "text": [
            "[['tanah', 'bangunan', 'jarak_ke_pusat', 'harga'], ['70', '50', '15', '500'], ['70', '60', '30', '400'], ['70', '60', '55', '300'], ['100', '50', '30', '700'], ['100', '70', '25', '1000'], ['100', '70', '50', '650'], ['120', '100', '20', '2000'], ['120', '80', '50', '1200'], ['150', '100', '50', '1800'], ['150', '90', '15', '3000']]\n",
            "[['70', '50', '15', '500'], ['70', '60', '30', '400'], ['70', '60', '55', '300'], ['100', '50', '30', '700'], ['100', '70', '25', '1000'], ['100', '70', '50', '650'], ['120', '100', '20', '2000'], ['120', '80', '50', '1200'], ['150', '100', '50', '1800'], ['150', '90', '15', '3000']]\n"
          ]
        }
      ],
      "source": [
        "import requests\n",
        "from contextlib import closing\n",
        "import csv\n",
        "# STEP 1:\n",
        "# Baca file \"harga_rumah.txt\"\n",
        "url = \"https://storage.googleapis.com/dqlab-dataset/harga_rumah.txt\"\n",
        "data_harga_rumah = []\n",
        "with closing(requests.get(url, stream=True)) as r:\n",
        "    f = (line.decode('utf-8') for line in r.iter_lines())\n",
        "    data_harga_rumah = [row for row in csv.reader(f)]\n",
        "print(data_harga_rumah)\n",
        "# Buat list of dict dengan nama harga rumah\n",
        "key_harga_rumah = harga_rumah[0]\n",
        "harga_rumah = []\n",
        "for baris_harga_rumah in data_harga_rumah[1:]:\n",
        "\tdict_harga_rumah = dict()\n",
        "\tfor i in range(len(key_harga_rumah)):\n",
        "\t\tdict_harga_rumah[key_harga_rumah[i]] = key_harga_rumah[i]\n",
        "\tharga_rumah.append(baris_harga_rumah)\n",
        "print(harga_rumah)"
      ]
    },
    {
      "cell_type": "code",
      "execution_count": null,
      "metadata": {
        "colab": {
          "base_uri": "https://localhost:8080/"
        },
        "id": "uozcVu4yLm92",
        "outputId": "8f0581db-b401-4eeb-bab1-824c1f3aae61"
      },
      "outputs": [
        {
          "name": "stdout",
          "output_type": "stream",
          "text": [
            "[['tanah', 'bangunan', 'jarak_ke_pusat', 'harga'], ['70', '50', '15', '500'], ['70', '60', '30', '400'], ['70', '60', '55', '300'], ['100', '50', '30', '700'], ['100', '70', '25', '1000'], ['100', '70', '50', '650'], ['120', '100', '20', '2000'], ['120', '80', '50', '1200'], ['150', '100', '50', '1800'], ['150', '90', '15', '3000']]\n",
            "[{'tanah': '70', 'bangunan': '50', 'jarak_ke_pusat': '15', 'harga': '500'}, {'tanah': '70', 'bangunan': '60', 'jarak_ke_pusat': '30', 'harga': '400'}, {'tanah': '70', 'bangunan': '60', 'jarak_ke_pusat': '55', 'harga': '300'}, {'tanah': '100', 'bangunan': '50', 'jarak_ke_pusat': '30', 'harga': '700'}, {'tanah': '100', 'bangunan': '70', 'jarak_ke_pusat': '25', 'harga': '1000'}, {'tanah': '100', 'bangunan': '70', 'jarak_ke_pusat': '50', 'harga': '650'}, {'tanah': '120', 'bangunan': '100', 'jarak_ke_pusat': '20', 'harga': '2000'}, {'tanah': '120', 'bangunan': '80', 'jarak_ke_pusat': '50', 'harga': '1200'}, {'tanah': '150', 'bangunan': '100', 'jarak_ke_pusat': '50', 'harga': '1800'}, {'tanah': '150', 'bangunan': '90', 'jarak_ke_pusat': '15', 'harga': '3000'}]\n",
            "[['tanah', 'bangunan', 'jarak_ke_pusat', 'harga'], ['70', '50', '15', '500'], ['70', '60', '30', '400'], ['70', '60', '55', '300'], ['100', '50', '30', '700'], ['100', '70', '25', '1000'], ['100', '70', '50', '650'], ['120', '100', '20', '2000'], ['120', '80', '50', '1200'], ['150', '100', '50', '1800'], ['150', '90', '15', '3000']]\n"
          ]
        }
      ],
      "source": [
        "import requests\n",
        "from contextlib import closing\n",
        "import csv\n",
        "# STEP 1:\n",
        "# Baca file \"harga_rumah.txt\"\n",
        "url = \"https://storage.googleapis.com/dqlab-dataset/harga_rumah.txt\"\n",
        "data_harga_rumah = []\n",
        "with closing(requests.get(url, stream=True)) as r:\n",
        "    f = (line.decode('utf-8') for line in r.iter_lines())\n",
        "    data_harga_rumah = [row for row in csv.reader(f)]\n",
        "print(data_harga_rumah)\n",
        "# Buat list of dict dengan nama harga rumah\n",
        "key_harga_rumah = data_harga_rumah[0]\n",
        "harga_rumah = []\n",
        "for baris_harga_rumah in data_harga_rumah[1:]:\n",
        "\tdict_harga_rumah = dict()\n",
        "\tfor i in range(len(key_harga_rumah)):\n",
        "\t\tdict_harga_rumah[key_harga_rumah[i]] = baris_harga_rumah[i]\n",
        "\tharga_rumah.append(dict_harga_rumah)\n",
        "print(harga_rumah)\n",
        "print(data_harga_rumah)"
      ]
    },
    {
      "cell_type": "code",
      "execution_count": null,
      "metadata": {
        "colab": {
          "base_uri": "https://localhost:8080/"
        },
        "id": "BrTwlQG9IwBk",
        "outputId": "b5da1384-8c08-4d96-f117-254ac5b57f7a"
      },
      "outputs": [
        {
          "name": "stdout",
          "output_type": "stream",
          "text": [
            "[{'tanah': '70', 'bangunan': '50', 'jarak_ke_pusat': '15', 'harga': '500'}, {'tanah': '70', 'bangunan': '60', 'jarak_ke_pusat': '30', 'harga': '400'}, {'tanah': '70', 'bangunan': '60', 'jarak_ke_pusat': '55', 'harga': '300'}, {'tanah': '100', 'bangunan': '50', 'jarak_ke_pusat': '30', 'harga': '700'}, {'tanah': '100', 'bangunan': '70', 'jarak_ke_pusat': '25', 'harga': '1000'}, {'tanah': '100', 'bangunan': '70', 'jarak_ke_pusat': '50', 'harga': '650'}, {'tanah': '120', 'bangunan': '100', 'jarak_ke_pusat': '20', 'harga': '2000'}, {'tanah': '120', 'bangunan': '80', 'jarak_ke_pusat': '50', 'harga': '1200'}, {'tanah': '150', 'bangunan': '100', 'jarak_ke_pusat': '50', 'harga': '1800'}, {'tanah': '150', 'bangunan': '90', 'jarak_ke_pusat': '15', 'harga': '3000'}]\n"
          ]
        }
      ],
      "source": [
        "import requests\n",
        "from contextlib import closing\n",
        "import csv\n",
        "# STEP 1:\n",
        "# Baca file \"harga_rumah.txt\"\n",
        "url = \"https://storage.googleapis.com/dqlab-dataset/harga_rumah.txt\"\n",
        "data_harga_rumah = []\n",
        "with closing(requests.get(url, stream=True)) as r:\n",
        "    f = (line.decode('utf-8') for line in r.iter_lines())\n",
        "    data_harga_rumah = [row for row in csv.reader(f)]\n",
        "# Buat list of dict dengan nama harga rumah\n",
        "key_harga_rumah = data_harga_rumah[0]\n",
        "harga_rumah = []\n",
        "for baris_harga_rumah in data_harga_rumah[1:]:\n",
        "\tdict_harga_rumah = dict()\n",
        "\tfor i in range(len(key_harga_rumah)):\n",
        "\t\tdict_harga_rumah[key_harga_rumah[i]] = baris_harga_rumah[i]\n",
        "\tharga_rumah.append(dict_harga_rumah)\n",
        "print(harga_rumah)\n",
        "# STEP 2:\n",
        "# Buat fungsi  get_all_specified_attribute yang menerima parameter list_of_dictionary\n",
        "# (tipe data list yang berisikan sekumpulan tipe data dictionary) dan specified_key\n",
        "# (tipe data string). Fungsi akan mengembalikan sebuah list yang berisikan seluruh\n",
        "# atribut dengan kunci (key) specified_key.\n",
        "def get_all_specified_attributes(list_of_dictionary, specified_key):\n",
        " list_attributes = []\n",
        " for data in list_of_dictionary:\n",
        "  attribute = data[specified_key]\n",
        "  list_attributes.append(attribute)\n",
        " return list_attributes\n",
        "# STEP 3:\n",
        "# Buat fungsi fungsi min_value yang menerima parameter list_attributes (berupa\n",
        "# tipe data list) dan mengembalikan nilai terkecil dalam list_attributes\n",
        "def min_value(list_attributes):\n",
        "\tmin_attribute = 9999\n",
        "\tfor attr in list_attributes:\n",
        "\t\tif int(attr) < min_attribute:\n",
        "\t\t\tmin_attribute = int(attr)\n",
        "\treturn min_attribute\n",
        "# Buat fungsi dan max_value yang menerima parameter list_attribute dan\n",
        "# mengembalikan nilai terbesar dalam list_attributes.\n",
        "def max_value(list_attributes):\n",
        "\tmax_attribute = -9999\n",
        "\tfor attr in list_attributes:\n",
        "\t\tif int(attr) > max_attribute:\n",
        "\t\t\tmax_attribute = int(attr)\n",
        "\treturn max_attribute\n",
        "# STEP 4:\n",
        "# Buat fungsi transform_attribute yang menerima parameter attr (sebuah\n",
        "# bilangan), max_attr (sebuah bilangan) dan min_attr (sebuah bilangan)\n",
        "# yang mengembalikan nilai transformasi dari sebuah attribute.\n",
        "def transform_attribute(attr, max_attr, min_attr):\n",
        "\tnilai_transformasi = (attr - min_attr) / (max_attr - min_attr)\n",
        "\treturn nilai_transformasi\n",
        "# STEP 5:\n",
        "# Buat fungsi data_transformation yang menerima parameter list_of_dictionary\n",
        "# (sebuah list yang berisikan tipe data dictionary) dan list_attribute_names\n",
        "# (sebuah list yang berisikan tipe data string) mengembalikan hasil\n",
        "# transformasi data dari list_of_dictionary berdasarkan list_attribute_names\n",
        "# dan attr_info telah dispesifikasikan.\n",
        "def data_transformation(list_of_dictionary, list_attribute_names):\n",
        "\tattr_info = {}\n",
        "\tfor attr_name in list_attribute_names:\n",
        "\t\tspecified_attributes = get_all_specified_attributes(list_of_dictionary, attr_name)\n",
        "\t\tmax_attr = max_value(specified_attributes)\n",
        "\t\tmin_attr = min_value(specified_attributes)\n",
        "\t\tattr_info[attr_name] = {'max': max_attr, 'min': min_attr}\n",
        "\t\tdata_idx = 0\n",
        "\t\twhile(data_idx < len(attr_name)):\n",
        "\t\t\tlist_of_dictionary[data_idx][attr_name] = transform_attribute(int(list_of_dictionary[data_idx][attr_name]), max_attr, min_attr)\n",
        "\t\t\tdata_idx += 1\n",
        "\treturn list_of_dictionary, attr_info"
      ]
    },
    {
      "cell_type": "code",
      "execution_count": null,
      "metadata": {
        "colab": {
          "base_uri": "https://localhost:8080/"
        },
        "id": "i3quUkWcRs6i",
        "outputId": "53e9c9a0-b5d6-4d89-c959-011d2965991c"
      },
      "outputs": [
        {
          "name": "stdout",
          "output_type": "stream",
          "text": [
            "('Januari', 'Februari', 'Maret', 'April', 'Mei', 'Juni', 'Juli', 'Agustus', 'September', 'Oktober', 'November')\n"
          ]
        }
      ],
      "source": [
        "bulan_pembelian = ('Januari', 'Februari', 'Maret', 'April', 'Mei', 'Juni', 'Juli', 'Agustus', 'September', 'Oktober', 'November', 'Desember')\n",
        "print(bulan_pembelian[:-1])"
      ]
    },
    {
      "cell_type": "code",
      "execution_count": null,
      "metadata": {
        "colab": {
          "base_uri": "https://localhost:8080/"
        },
        "id": "8UDuqTFBeBz0",
        "outputId": "be388312-eb7d-4dbf-bc8f-1431cdc3501d"
      },
      "outputs": [
        {
          "name": "stdout",
          "output_type": "stream",
          "text": [
            "{'Melon', 'Jeruk', 'Apel', 'Anggur'}\n",
            "{'Melon', 'Jeruk', 'Apel', 'Anggur'}\n",
            "{'Kiwi', 'Jeruk', 'Apel', 'Anggur'}\n"
          ]
        }
      ],
      "source": [
        "set_buah1={'Jeruk', 'Apel', 'Anggur'}\n",
        "set_buah2 = set_buah1\n",
        "set_buah3 = set_buah1.copy()\n",
        "set_buah2.add('Melon')\n",
        "set_buah3.add('Kiwi')\n",
        "print(set_buah1)\n",
        "print(set_buah2)\n",
        "print(set_buah3)"
      ]
    },
    {
      "cell_type": "code",
      "execution_count": null,
      "metadata": {
        "colab": {
          "base_uri": "https://localhost:8080/"
        },
        "id": "DA2LjkWngcrz",
        "outputId": "a20b8052-94f4-44f9-81ab-b5ec375e6f04"
      },
      "outputs": [
        {
          "name": "stdout",
          "output_type": "stream",
          "text": [
            "sawo\n",
            "{'nanas', 'semangka', 'mangga', 'melon'}\n"
          ]
        }
      ],
      "source": [
        "parcel = {'nanas','mangga','sawo','semangka','melon'}\n",
        "buah = parcel.pop()\n",
        "print(buah)\n",
        "print(parcel)"
      ]
    },
    {
      "cell_type": "code",
      "execution_count": null,
      "metadata": {
        "colab": {
          "base_uri": "https://localhost:8080/"
        },
        "id": "BfbzsQNBitMU",
        "outputId": "52ee2c21-bf6f-4d39-ec76-4c0d89d0e18c"
      },
      "outputs": [
        {
          "name": "stdout",
          "output_type": "stream",
          "text": [
            "{'Melon', 'Anggur', 'Semangka', 'Leci'}\n",
            "{'Melon', 'Anggur', 'Semangka', 'Leci'}\n",
            "{'Melon', 'Anggur'}\n",
            "{'Semangka', 'Leci'}\n"
          ]
        }
      ],
      "source": [
        "parcel_A = {'Anggur','Apel','Jeruk','Melon'}\n",
        "parcel_B = {'Apel', 'Jeruk', 'Semangka','Leci'}\n",
        "parcel_C = parcel_A.symmetric_difference(parcel_B)\n",
        "parcel_D = parcel_B.symmetric_difference(parcel_A)\n",
        "parcel_E = parcel_A.difference(parcel_B)\n",
        "parcel_F = parcel_B.difference(parcel_A)\n",
        "print(parcel_C)\n",
        "print(parcel_D)\n",
        "print(parcel_E)\n",
        "print(parcel_F)\n",
        "\n"
      ]
    },
    {
      "cell_type": "code",
      "execution_count": null,
      "metadata": {
        "colab": {
          "base_uri": "https://localhost:8080/"
        },
        "id": "tKp5JlqvVCot",
        "outputId": "b13dd5fc-8400-42ef-aac1-88f9795737db"
      },
      "outputs": [
        {
          "name": "stdout",
          "output_type": "stream",
          "text": [
            "[1000, 2500]\n"
          ]
        }
      ],
      "source": [
        "harga = [1000, 2500, 5000, 15000, 30000]\n",
        "print(harga[:-3])\n"
      ]
    },
    {
      "cell_type": "code",
      "execution_count": null,
      "metadata": {
        "colab": {
          "base_uri": "https://localhost:8080/"
        },
        "id": "xw_4LiCaj61Z",
        "outputId": "a0527846-1248-4c39-8e6a-ba6bac5c31f1"
      },
      "outputs": [
        {
          "name": "stdout",
          "output_type": "stream",
          "text": [
            "{'Durian'}\n",
            "{'Durian'}\n"
          ]
        }
      ],
      "source": [
        "set_buah1 = {'Jeruk','Apel','Anggur'}\n",
        "set_buah2 = set_buah1\n",
        "set_buah1.clear()\n",
        "set_buah2.add('Durian')\n",
        "print(set_buah1)\n",
        "print(set_buah2)"
      ]
    },
    {
      "cell_type": "code",
      "execution_count": null,
      "metadata": {
        "colab": {
          "base_uri": "https://localhost:8080/"
        },
        "id": "kneHiUhVmSA0",
        "outputId": "6352636a-be6f-4fe1-f44c-c199f24f8c25"
      },
      "outputs": [
        {
          "name": "stdout",
          "output_type": "stream",
          "text": [
            "SePatu\n"
          ]
        }
      ],
      "source": [
        "nama_produk =\"SePatu NiKo\"\n",
        "print(nama_produk[:6])"
      ]
    },
    {
      "cell_type": "code",
      "execution_count": null,
      "metadata": {
        "colab": {
          "base_uri": "https://localhost:8080/"
        },
        "id": "uMpcP7tynxh0",
        "outputId": "08d33fa0-bec8-4247-f4f5-14d9f8d95d92"
      },
      "outputs": [
        {
          "name": "stdout",
          "output_type": "stream",
          "text": [
            "['ani budi wati johan']\n",
            "['ani', 'budi', 'wati', 'johan']\n"
          ]
        }
      ],
      "source": [
        "frasa = \"ani budi wati johan\"\n",
        "karakter = frasa.split(\"dan\")\n",
        "kata = frasa.split(\" \")\n",
        "print(karakter)\n",
        "print(kata)"
      ]
    },
    {
      "cell_type": "code",
      "execution_count": null,
      "metadata": {
        "colab": {
          "base_uri": "https://localhost:8080/",
          "height": 245
        },
        "id": "kkY85oC9owSy",
        "outputId": "db964a7c-e0b5-4fe4-ac5b-3d2f91bf864c"
      },
      "outputs": [
        {
          "ename": "AttributeError",
          "evalue": "'list' object has no attribute 'split'",
          "output_type": "error",
          "traceback": [
            "\u001b[0;31m---------------------------------------------------------------------------\u001b[0m",
            "\u001b[0;31mAttributeError\u001b[0m                            Traceback (most recent call last)",
            "\u001b[0;32m<ipython-input-18-b44c94fe1530>\u001b[0m in \u001b[0;36m<cell line: 3>\u001b[0;34m()\u001b[0m\n\u001b[1;32m      1\u001b[0m \u001b[0mfrasa\u001b[0m \u001b[0;34m=\u001b[0m \u001b[0;34m\"ani budi wati johan\"\u001b[0m\u001b[0;34m\u001b[0m\u001b[0;34m\u001b[0m\u001b[0m\n\u001b[1;32m      2\u001b[0m \u001b[0mkarakter\u001b[0m \u001b[0;34m=\u001b[0m \u001b[0mfrasa\u001b[0m\u001b[0;34m.\u001b[0m\u001b[0msplit\u001b[0m\u001b[0;34m(\u001b[0m\u001b[0;34m\"dan\"\u001b[0m\u001b[0;34m)\u001b[0m\u001b[0;34m\u001b[0m\u001b[0;34m\u001b[0m\u001b[0m\n\u001b[0;32m----> 3\u001b[0;31m \u001b[0mkata\u001b[0m \u001b[0;34m=\u001b[0m \u001b[0mkarakter\u001b[0m\u001b[0;34m.\u001b[0m\u001b[0msplit\u001b[0m\u001b[0;34m(\u001b[0m\u001b[0;34m\" \"\u001b[0m\u001b[0;34m)\u001b[0m\u001b[0;34m\u001b[0m\u001b[0;34m\u001b[0m\u001b[0m\n\u001b[0m\u001b[1;32m      4\u001b[0m \u001b[0mprint\u001b[0m\u001b[0;34m(\u001b[0m\u001b[0mkarakter\u001b[0m\u001b[0;34m)\u001b[0m\u001b[0;34m\u001b[0m\u001b[0;34m\u001b[0m\u001b[0m\n\u001b[1;32m      5\u001b[0m \u001b[0mprint\u001b[0m\u001b[0;34m(\u001b[0m\u001b[0mkata\u001b[0m\u001b[0;34m)\u001b[0m\u001b[0;34m\u001b[0m\u001b[0;34m\u001b[0m\u001b[0m\n",
            "\u001b[0;31mAttributeError\u001b[0m: 'list' object has no attribute 'split'"
          ]
        }
      ],
      "source": [
        "frasa = \"ani budi wati johan\"\n",
        "karakter = frasa.split(\"dan\")\n",
        "kata = karakter.split(\" \")\n",
        "print(karakter)\n",
        "print(kata)"
      ]
    },
    {
      "cell_type": "code",
      "execution_count": null,
      "metadata": {
        "colab": {
          "base_uri": "https://localhost:8080/",
          "height": 245
        },
        "id": "NVOyip7-oc6a",
        "outputId": "794bcbc4-7bf4-4ca2-c74e-3c5e015b0add"
      },
      "outputs": [
        {
          "ename": "AttributeError",
          "evalue": "'list' object has no attribute 'split'",
          "output_type": "error",
          "traceback": [
            "\u001b[0;31m---------------------------------------------------------------------------\u001b[0m",
            "\u001b[0;31mAttributeError\u001b[0m                            Traceback (most recent call last)",
            "\u001b[0;32m<ipython-input-17-4180fda0fbf4>\u001b[0m in \u001b[0;36m<cell line: 3>\u001b[0;34m()\u001b[0m\n\u001b[1;32m      1\u001b[0m \u001b[0mfrasa\u001b[0m \u001b[0;34m=\u001b[0m \u001b[0;34m\"ani dan budi dan wati dan johan\"\u001b[0m\u001b[0;34m\u001b[0m\u001b[0;34m\u001b[0m\u001b[0m\n\u001b[1;32m      2\u001b[0m \u001b[0mkarakter\u001b[0m \u001b[0;34m=\u001b[0m \u001b[0mfrasa\u001b[0m\u001b[0;34m.\u001b[0m\u001b[0msplit\u001b[0m\u001b[0;34m(\u001b[0m\u001b[0;34m\"dan\"\u001b[0m\u001b[0;34m)\u001b[0m\u001b[0;34m\u001b[0m\u001b[0;34m\u001b[0m\u001b[0m\n\u001b[0;32m----> 3\u001b[0;31m \u001b[0mkata\u001b[0m \u001b[0;34m=\u001b[0m \u001b[0mkarakter\u001b[0m\u001b[0;34m.\u001b[0m\u001b[0msplit\u001b[0m\u001b[0;34m(\u001b[0m\u001b[0;34m\" \"\u001b[0m\u001b[0;34m)\u001b[0m\u001b[0;34m\u001b[0m\u001b[0;34m\u001b[0m\u001b[0m\n\u001b[0m\u001b[1;32m      4\u001b[0m \u001b[0mprint\u001b[0m\u001b[0;34m(\u001b[0m\u001b[0mkarakter\u001b[0m\u001b[0;34m)\u001b[0m\u001b[0;34m\u001b[0m\u001b[0;34m\u001b[0m\u001b[0m\n\u001b[1;32m      5\u001b[0m \u001b[0mprint\u001b[0m\u001b[0;34m(\u001b[0m\u001b[0mkata\u001b[0m\u001b[0;34m)\u001b[0m\u001b[0;34m\u001b[0m\u001b[0;34m\u001b[0m\u001b[0m\n",
            "\u001b[0;31mAttributeError\u001b[0m: 'list' object has no attribute 'split'"
          ]
        }
      ],
      "source": [
        "frasa = \"ani dan budi dan wati dan johan\"\n",
        "karakter = frasa.split(\"dan\")\n",
        "kata = karakter.split(\" \")\n",
        "print(karakter)\n",
        "print(kata)"
      ]
    },
    {
      "cell_type": "code",
      "execution_count": null,
      "metadata": {
        "colab": {
          "base_uri": "https://localhost:8080/"
        },
        "id": "uH54nreKZGWW",
        "outputId": "f3a5bb18-55e9-44b3-8dc5-157cfbe9dd8b"
      },
      "outputs": [
        {
          "name": "stdout",
          "output_type": "stream",
          "text": [
            "Halo\n",
            "\n",
            "Belajar Python\n",
            "\n",
            "Menyenangkan!\n",
            "\n"
          ]
        }
      ],
      "source": [
        "file = open(\"hello.txt\",\"w\")\n",
        "file.writelines([\"Halo\\n\", \"Belajar Python\\n\", \"Menyenangkan!\\n\"])\n",
        "file.close()\n",
        "file = open(\"hello.txt\",\"r\")\n",
        "for line in file:\n",
        "    print(line)\n"
      ]
    },
    {
      "cell_type": "code",
      "execution_count": null,
      "metadata": {
        "colab": {
          "base_uri": "https://localhost:8080/"
        },
        "id": "SHyzgp1daIfp",
        "outputId": "e731d92e-09fa-4da6-f96a-0dd1d21498d8"
      },
      "outputs": [
        {
          "name": "stdout",
          "output_type": "stream",
          "text": [
            "-10\n",
            "14\n"
          ]
        }
      ],
      "source": [
        "import math\n",
        "x = -10.32\n",
        "y = 13.87\n",
        "x_ceil = math.ceil(x)\n",
        "y_ceil = math.ceil(y)\n",
        "print(x_ceil)\n",
        "print(y_ceil)"
      ]
    },
    {
      "cell_type": "code",
      "execution_count": null,
      "metadata": {
        "colab": {
          "base_uri": "https://localhost:8080/"
        },
        "id": "WHB6SsXQfXop",
        "outputId": "51eaf9fe-7d20-4ba5-d445-cc9cb59ca6ef"
      },
      "outputs": [
        {
          "name": "stdout",
          "output_type": "stream",
          "text": [
            "[['tanah', 'bangunan', 'jarak_ke_pusat', 'harga'], ['70', '50', '15', '500'], ['70', '60', '30', '400'], ['70', '60', '55', '300'], ['100', '50', '30', '700'], ['100', '70', '25', '1000'], ['100', '70', '50', '650'], ['120', '100', '20', '2000'], ['120', '80', '50', '1200'], ['150', '100', '50', '1800'], ['150', '90', '15', '3000']]\n",
            "[['tanah', 'bangunan', 'jarak_ke_pusat', 'harga'], ['70', '50', '15', '500'], ['70', '60', '30', '400'], ['70', '60', '55', '300'], ['100', '50', '30', '700'], ['100', '70', '25', '1000'], ['100', '70', '50', '650'], ['120', '100', '20', '2000'], ['120', '80', '50', '1200'], ['150', '100', '50', '1800'], ['150', '90', '15', '3000']]\n",
            "['tanah', 'bangunan', 'jarak_ke_pusat', 'harga']\n",
            "[{'tanah': '150', 'bangunan': '90', 'jarak_ke_pusat': '15', 'harga': '3000'}]\n"
          ]
        }
      ],
      "source": [
        "import requests\n",
        "from contextlib import closing\n",
        "import csv\n",
        "# STEP 1:\n",
        "# Baca file \"harga_rumah.txt\"\n",
        "url = \"https://storage.googleapis.com/dqlab-dataset/harga_rumah.txt\"\n",
        "data_harga_rumah = []\n",
        "with closing(requests.get(url, stream=True)) as r:\n",
        "  f = (line.decode('utf-8') for line in r.iter_lines())\n",
        "  data_harga_rumah = [row for row in csv.reader(f)]\n",
        "print(data_harga_rumah)\n",
        "# Buat list of dict dengan nama harga rumah\n",
        "key_harga_rumah = data_harga_rumah[0]\n",
        "print(data_harga_rumah)\n",
        "print(key_harga_rumah)\n",
        "harga_rumah = []\n",
        "for baris_harga_rumah in data_harga_rumah[1:]:\n",
        "  dict_harga_rumah = dict()\n",
        "for i in range(len(baris_harga_rumah)):\n",
        "  dict_harga_rumah[key_harga_rumah[i]] = baris_harga_rumah[i]\n",
        "harga_rumah.append(dict_harga_rumah)\n",
        "print(harga_rumah)\n",
        "\n",
        "# Buat fungsi  get_all_specified_attribute yang menerima parameter list_of_dictionary\n",
        "# (tipe data list yang berisikan sekumpulan tipe data dictionary) dan specified_key\n",
        "# (tipe data string). Fungsi akan mengembalikan sebuah list yang berisikan seluruh\n",
        "# atribut dengan kunci (key) specified_key.\n",
        "def get_all_specified_attributes(list_of_dictionary, specified_key):\n",
        "  list_attributes = []\n",
        "  for data in list_of_dictionary:\n",
        "    attribute = data[specified_key]\n",
        "    list_attributes.append(attribute)\n",
        "  return list_attributes\n",
        "\n",
        "# STEP 3:\n",
        "# Buat fungsi fungsi min_value yang menerima parameter list_attributes (berupa\n",
        "# tipe data list) dan mengembalikan nilai terkecil dalam list_attributes\n",
        "def min_value(list_attributes):\n",
        "  min_attribute = 9999\n",
        "  for attr in list_attributes:\n",
        "    if int(attr) < min_attribute:\n",
        "      min_attribute = int(attr)\n",
        "  return min_attribute\n",
        "# Buat fungsi dan max_value yang menerima parameter list_attribute dan\n",
        "# mengembalikan nilai terbesar dalam list_attributes.\n",
        "def max_value(list_attributes):\n",
        "  max_attribute = -9999\n",
        "  for attr in list_attributes:\n",
        "    if int(attr) > max_attribute:\n",
        "      max_attribute = int(attr)\n",
        "  return max_attribute\n",
        "# STEP 4:\n",
        "# Buat fungsi transform_attribute yang menerima parameter attr (sebuah\n",
        "# bilangan), max_attr (sebuah bilangan) dan min_attr (sebuah bilangan)\n",
        "# yang mengembalikan nilai transformasi dari sebuah attribute.\n",
        "def transform_attribute(attr, max_attr, min_attr):\n",
        "  nilai_transformasi = (attr - min_attr) / (max_attr - min_attr)\n",
        "  return nilai_transformasi\n"
      ]
    },
    {
      "cell_type": "code",
      "execution_count": null,
      "metadata": {
        "colab": {
          "background_save": true,
          "base_uri": "https://localhost:8080/"
        },
        "id": "Ox71-vL74gsL",
        "outputId": "5826ef2a-f1db-4302-87e6-aa261c0f3b8d"
      },
      "outputs": [
        {
          "name": "stdout",
          "output_type": "stream",
          "text": [
            "[{'tanah': '70', 'bangunan': '50', 'jarak_ke_pusat': '15', 'harga': '500'}, {'tanah': '70', 'bangunan': '60', 'jarak_ke_pusat': '30', 'harga': '400'}, {'tanah': '70', 'bangunan': '60', 'jarak_ke_pusat': '55', 'harga': '300'}, {'tanah': '100', 'bangunan': '50', 'jarak_ke_pusat': '30', 'harga': '700'}, {'tanah': '100', 'bangunan': '70', 'jarak_ke_pusat': '25', 'harga': '1000'}, {'tanah': '100', 'bangunan': '70', 'jarak_ke_pusat': '50', 'harga': '650'}, {'tanah': '120', 'bangunan': '100', 'jarak_ke_pusat': '20', 'harga': '2000'}, {'tanah': '120', 'bangunan': '80', 'jarak_ke_pusat': '50', 'harga': '1200'}, {'tanah': '150', 'bangunan': '100', 'jarak_ke_pusat': '50', 'harga': '1800'}, {'tanah': '150', 'bangunan': '90', 'jarak_ke_pusat': '15', 'harga': '3000'}]\n"
          ]
        },
        {
          "ename": "NameError",
          "evalue": "name 'list_of_dictionary' is not defined",
          "output_type": "error",
          "traceback": [
            "\u001b[0;31m---------------------------------------------------------------------------\u001b[0m",
            "\u001b[0;31mNameError\u001b[0m                                 Traceback (most recent call last)",
            "\u001b[0;32m<ipython-input-3-c5b23fcedb49>\u001b[0m in \u001b[0;36m<cell line: 55>\u001b[0;34m()\u001b[0m\n\u001b[1;32m     53\u001b[0m         \u001b[0mnilai_transformasi\u001b[0m \u001b[0;34m=\u001b[0m \u001b[0;34m(\u001b[0m\u001b[0mattr\u001b[0m \u001b[0;34m-\u001b[0m \u001b[0mmin_attr\u001b[0m\u001b[0;34m)\u001b[0m \u001b[0;34m/\u001b[0m \u001b[0;34m(\u001b[0m\u001b[0mmax_attr\u001b[0m \u001b[0;34m-\u001b[0m \u001b[0mmin_attr\u001b[0m\u001b[0;34m)\u001b[0m\u001b[0;34m\u001b[0m\u001b[0;34m\u001b[0m\u001b[0m\n\u001b[1;32m     54\u001b[0m         \u001b[0;32mreturn\u001b[0m \u001b[0mnilai_transformasi\u001b[0m\u001b[0;34m\u001b[0m\u001b[0;34m\u001b[0m\u001b[0m\n\u001b[0;32m---> 55\u001b[0;31m \u001b[0mprint\u001b[0m\u001b[0;34m(\u001b[0m\u001b[0mlist_of_dictionary\u001b[0m\u001b[0;34m)\u001b[0m\u001b[0;34m\u001b[0m\u001b[0;34m\u001b[0m\u001b[0m\n\u001b[0m",
            "\u001b[0;31mNameError\u001b[0m: name 'list_of_dictionary' is not defined"
          ]
        }
      ],
      "source": [
        "import requests\n",
        "from contextlib import closing\n",
        "import csv\n",
        "# STEP 1:\n",
        "# Baca file \"harga_rumah.txt\"\n",
        "url = \"https://storage.googleapis.com/dqlab-dataset/harga_rumah.txt\"\n",
        "data_harga_rumah = []\n",
        "with closing(requests.get(url, stream=True)) as r:\n",
        "    f = (line.decode('utf-8') for line in r.iter_lines())\n",
        "    data_harga_rumah = [row for row in csv.reader(f)]\n",
        "# Buat list of dict dengan nama harga rumah\n",
        "key_harga_rumah = data_harga_rumah[0]\n",
        "harga_rumah = []\n",
        "for baris_harga_rumah in data_harga_rumah[1:]:\n",
        "\tdict_harga_rumah = dict()\n",
        "\tfor i in range(len(baris_harga_rumah)):\n",
        "\t\tdict_harga_rumah[key_harga_rumah[i]] = baris_harga_rumah[i]\n",
        "\tharga_rumah.append(dict_harga_rumah)\n",
        "print(harga_rumah)\n",
        "# STEP 2:\n",
        "# Buat fungsi  get_all_specified_attribute yang menerima parameter list_of_dictionary\n",
        "# (tipe data list yang berisikan sekumpulan tipe data dictionary) dan specified_key\n",
        "# (tipe data string). Fungsi akan mengembalikan sebuah list yang berisikan seluruh\n",
        "# atribut dengan kunci (key) specified_key.\n",
        "def get_all_specified_attributes(list_of_dictionary, specified_key):\n",
        "\tlist_attributes = []\n",
        "\tfor data in list_of_dictionary:\n",
        "\t\tattribute = data[specified_key]\n",
        "\t\tlist_attributes.append(attribute)\n",
        "\treturn list_attributes\n",
        "# STEP 3:\n",
        "# Buat fungsi fungsi min_value yang menerima parameter list_attributes (berupa\n",
        "# tipe data list) dan mengembalikan nilai terkecil dalam list_attributes\n",
        "def min_value(list_attributes):\n",
        "\tmin_attribute = 9999\n",
        "\tfor attr in list_attributes:\n",
        "\t\tif int(attr) < min_attribute:\n",
        "\t\t\tmin_attribute = int(attr)\n",
        "\treturn min_attribute\n",
        "# Buat fungsi dan max_value yang menerima parameter list_attribute dan\n",
        "# mengembalikan nilai terbesar dalam list_attributes.\n",
        "def max_value(list_attributes):\n",
        "\tmax_attribute = -9999\n",
        "\tfor attr in list_attributes:\n",
        "\t\tif int(attr) > max_attribute:\n",
        "\t\t\tmax_attribute = int(attr)\n",
        "\treturn max_attribute\n",
        "# STEP 4:\n",
        "# Buat fungsi transform_attribute yang menerima parameter attr (sebuah\n",
        "# bilangan), max_attr (sebuah bilangan) dan min_attr (sebuah bilangan)\n",
        "# yang mengembalikan nilai transformasi dari sebuah attribute.\n",
        "def transform_attribute(attr, max_attr, min_attr):\n",
        "\tnilai_transformasi = (attr - min_attr) / (max_attr - min_attr)\n",
        "\treturn nilai_transformasi\n"
      ]
    },
    {
      "cell_type": "code",
      "source": [
        "class Karyawan:\n",
        "    def __init__(self, nama, usia, pendapatan, insentif_lembur):\n",
        "        self.nama = nama\n",
        "        self.usia = usia\n",
        "        self.pendapatan = pendapatan\n",
        "        self.pendapatan_tambahan = 0\n",
        "        self.insentif_lembur = insentif_lembur\n",
        "    def lembur(self):\n",
        "        self.pendapatan_tambahan += self.insentif_lembur\n",
        "    def tambahan_proyek(self, jumlah_tambahan):\n",
        "        self.pendapatan_tambahan += jumlah_tambahan\n",
        "    def total_pendapatan(self):\n",
        "        return self.pendapatan + self.pendapatan_tambahan\n",
        "\n",
        "class Perusahaan:\n",
        "    def __init__(self, nama, alamat, nomor_telepon):\n",
        "        self.nama = nama\n",
        "        self.alamat = alamat\n",
        "        self.nomor_telepon = nomor_telepon\n",
        "        self.list_karyawan = []\n",
        "    def aktifkan_karyawan(self, karyawan):\n",
        "        self.list_karyawan.append(karyawan)\n",
        "    def nonaktifkan_karyawan(self, nama_karyawan):\n",
        "        karyawan_nonaktif = None\n",
        "        for karyawan in self.list_karyawan:\n",
        "            if karyawan.nama == nama_karyawan:\n",
        "                karyawan_nonaktif = karyawan\n",
        "                break\n",
        "        if karyawan_nonaktif is not None:\n",
        "            self.list_karyawan.remove(karyawan_nonaktif)\n",
        "\n",
        "# Definisikan perusahaan\n",
        "perusahaan = Perusahaan('ABC', 'Jl. Jendral Sudirman, Blok 11', '(021) 95205XX')\n",
        "# Definisikan nama-nama karyawan\n",
        "karyawan_1 = Karyawan('Ani', 25, 8500000, 100000)\n",
        "karyawan_2 = Karyawan('Budi', 28, 12000000, 150000)\n",
        "karyawan_3 = Karyawan('Cici', 30, 15000000, 200000)\n",
        "# Aktifkan karyawan di perusahaan ABC\n",
        "perusahaan.aktifkan_karyawan(karyawan_1)\n",
        "perusahaan.aktifkan_karyawan(karyawan_2)\n",
        "perusahaan.aktifkan_karyawan(karyawan_3)"
      ],
      "metadata": {
        "id": "e7A7BfFkJr-q"
      },
      "execution_count": null,
      "outputs": []
    },
    {
      "cell_type": "markdown",
      "source": [],
      "metadata": {
        "id": "p_R1l59kQQMG"
      }
    },
    {
      "cell_type": "code",
      "source": [
        "class Karyawan:\n",
        "    nama_perusahaan = 'ABC'\n",
        "    __insentif_lembur = 250000\n",
        "    def __init__(self, nama, usia, pendapatan):\n",
        "        self.__nama = nama\n",
        "        self.__usia = usia\n",
        "        self.__pendapatan = pendapatan\n",
        "        self.__pendapatan_tambahan = 0\n",
        "    def lembur(self):\n",
        "        self.__pendapatan_tambahan += self.__insentif_lembur\n",
        "    def tambahan_proyek(self, insentif_proyek):\n",
        "        self.__pendapatan_tambahan += insentif_proyek\n",
        "    def total_pendapatan(self):\n",
        "        return self.__pendapatan + self.__pendapatan_tambahan\n",
        "\n",
        "aksara = Karyawan('Aksara', 25, 8500000)\n",
        "\n",
        "aksara.lembur()\n",
        "aksara.lembur()\n",
        "print(aksara.total_pendapatan())"
      ],
      "metadata": {
        "colab": {
          "base_uri": "https://localhost:8080/"
        },
        "id": "nvchNYyMQQ3Q",
        "outputId": "46453714-e946-4c0d-e56c-ad606ce71cd7"
      },
      "execution_count": null,
      "outputs": [
        {
          "output_type": "stream",
          "name": "stdout",
          "text": [
            "9000000\n"
          ]
        }
      ]
    },
    {
      "cell_type": "code",
      "source": [
        "class Karyawan:\n",
        "    nama_perusahaan = 'ABC'\n",
        "    insentif_lembur = 250000\n",
        "    def __init__(self, nama, usia, pendapatan):\n",
        "        self.__nama = nama\n",
        "        self.__usia = usia\n",
        "        self.__pendapatan = pendapatan\n",
        "        self.__pendapatan_tambahan = 0\n",
        "    def lembur(self):\n",
        "        self.__pendapatan_tambahan += self.insentif_lembur\n",
        "        if self.__usia > 30:\n",
        "          self.__pendapatan_tambahan *= 2\n",
        "    def tambahan_proyek(self, insentif_proyek):\n",
        "        self.__pendapatan_tambahan += insentif_proyek\n",
        "    def total_pendapatan(self):\n",
        "        return self.__pendapatan + self.__pendapatan_tambahan\n",
        "\n",
        "karyawan_1 = Karyawan('Kiki', 35, 8000000)\n",
        "karyawan_1.lembur()\n",
        "print(karyawan_1.total_pendapatan())\n",
        "karyawan_1.tambahan_proyek(karyawan_1.total_pendapatan())\n",
        "print(karyawan_1.total_pendapatan())\n",
        "\n"
      ],
      "metadata": {
        "colab": {
          "base_uri": "https://localhost:8080/"
        },
        "id": "-jbaSAfoSUVb",
        "outputId": "ed6eacba-6bed-423f-e404-4a0cafdc7cb4"
      },
      "execution_count": null,
      "outputs": [
        {
          "output_type": "stream",
          "name": "stdout",
          "text": [
            "8500000\n",
            "17000000\n"
          ]
        }
      ]
    },
    {
      "cell_type": "code",
      "source": [
        "class Karyawan:\n",
        "    nama_perusahaan = 'ABC'\n",
        "    insentif_lembur = 250000\n",
        "    def __init__(self, nama, usia, pendapatan):\n",
        "        self.__nama = nama\n",
        "        self.__usia = usia\n",
        "        self.__pendapatan = pendapatan\n",
        "        self.__pendapatan_tambahan = 0\n",
        "    def lembur(self):\n",
        "        self.__insentif_lembur = insentif_lembur\n",
        "        if usia > 30:\n",
        "            self.__insentif_lembur *= 2\n",
        "        self.__pendapatan_tambahan += self.__insentif_lembur\n",
        "    def tambahan_proyek(self, insentif_proyek):\n",
        "        self.__pendapatan_tambahan += insentif_proyek\n",
        "    def total_pendapatan(self):\n",
        "        return self.__pendapatan + self.__pendapatan_tambahan\n",
        "\n",
        "karyawan_1 = Karyawan('Kiki', 35, 8000000)\n",
        "karyawan_1.insentif_lembur\n",
        "karyawan_1.tambahan_proyek(karyawan_1.total_pendapatan())\n",
        "print(karyawan_1.total_pendapatan())\n",
        "print(karyawan_1.__insentif_lembur)\n",
        "print(karyawan_1._Karyawan__pendapatan_tambahan)\n",
        "print(karyawan_1._Karyawan__pendapatan)"
      ],
      "metadata": {
        "colab": {
          "base_uri": "https://localhost:8080/",
          "height": 262
        },
        "id": "l0GryjTlXFm3",
        "outputId": "52aa7ef9-fa4b-4acd-e1e5-0a8c82aa61f4"
      },
      "execution_count": null,
      "outputs": [
        {
          "output_type": "stream",
          "name": "stdout",
          "text": [
            "16000000\n"
          ]
        },
        {
          "output_type": "error",
          "ename": "AttributeError",
          "evalue": "'Karyawan' object has no attribute '__insentif_lembur'",
          "traceback": [
            "\u001b[0;31m---------------------------------------------------------------------------\u001b[0m",
            "\u001b[0;31mAttributeError\u001b[0m                            Traceback (most recent call last)",
            "\u001b[0;32m<ipython-input-29-91765fcede54>\u001b[0m in \u001b[0;36m<cell line: 23>\u001b[0;34m()\u001b[0m\n\u001b[1;32m     21\u001b[0m \u001b[0mkaryawan_1\u001b[0m\u001b[0;34m.\u001b[0m\u001b[0mtambahan_proyek\u001b[0m\u001b[0;34m(\u001b[0m\u001b[0mkaryawan_1\u001b[0m\u001b[0;34m.\u001b[0m\u001b[0mtotal_pendapatan\u001b[0m\u001b[0;34m(\u001b[0m\u001b[0;34m)\u001b[0m\u001b[0;34m)\u001b[0m\u001b[0;34m\u001b[0m\u001b[0;34m\u001b[0m\u001b[0m\n\u001b[1;32m     22\u001b[0m \u001b[0mprint\u001b[0m\u001b[0;34m(\u001b[0m\u001b[0mkaryawan_1\u001b[0m\u001b[0;34m.\u001b[0m\u001b[0mtotal_pendapatan\u001b[0m\u001b[0;34m(\u001b[0m\u001b[0;34m)\u001b[0m\u001b[0;34m)\u001b[0m\u001b[0;34m\u001b[0m\u001b[0;34m\u001b[0m\u001b[0m\n\u001b[0;32m---> 23\u001b[0;31m \u001b[0mprint\u001b[0m\u001b[0;34m(\u001b[0m\u001b[0mkaryawan_1\u001b[0m\u001b[0;34m.\u001b[0m\u001b[0m__insentif_lembur\u001b[0m\u001b[0;34m)\u001b[0m\u001b[0;34m\u001b[0m\u001b[0;34m\u001b[0m\u001b[0m\n\u001b[0m\u001b[1;32m     24\u001b[0m \u001b[0mprint\u001b[0m\u001b[0;34m(\u001b[0m\u001b[0mkaryawan_1\u001b[0m\u001b[0;34m.\u001b[0m\u001b[0m_Karyawan__pendapatan_tambahan\u001b[0m\u001b[0;34m)\u001b[0m\u001b[0;34m\u001b[0m\u001b[0;34m\u001b[0m\u001b[0m\n\u001b[1;32m     25\u001b[0m \u001b[0mprint\u001b[0m\u001b[0;34m(\u001b[0m\u001b[0mkaryawan_1\u001b[0m\u001b[0;34m.\u001b[0m\u001b[0m_Karyawan__pendapatan\u001b[0m\u001b[0;34m)\u001b[0m\u001b[0;34m\u001b[0m\u001b[0;34m\u001b[0m\u001b[0m\n",
            "\u001b[0;31mAttributeError\u001b[0m: 'Karyawan' object has no attribute '__insentif_lembur'"
          ]
        }
      ]
    },
    {
      "cell_type": "code",
      "source": [
        "class Karyawan:\n",
        "    nama_perusahaan = 'ABC'\n",
        "    __insentif_lembur = 250000\n",
        "    def __init__(self, nama, usia, pendapatan):\n",
        "        self.__nama = nama\n",
        "        self.__usia = usia\n",
        "        self.__pendapatan = pendapatan\n",
        "        self.__pendapatan_tambahan = 0\n",
        "    def lembur(self):\n",
        "        self.__pendapatan_tambahan += self.__insentif_lembur\n",
        "    def tambahan_proyek(self, insentif_proyek):\n",
        "        self.__pendapatan_tambahan += insentif_proyek\n",
        "    def total_pendapatan(self):\n",
        "        return self.__pendapatan + self.__pendapatan_tambahan\n",
        "\n",
        "aksara = Karyawan('Aksara', 25, 8500000)\n",
        "aksara.lembur()\n",
        "aksara.tambahan_proyek(aksara.lembur())\n",
        "print(aksara.total_pendapatan())\n",
        "\n"
      ],
      "metadata": {
        "colab": {
          "base_uri": "https://localhost:8080/",
          "height": 366
        },
        "id": "kHr2J6LKlCDh",
        "outputId": "57d9b010-cb9c-4b3e-ff7d-455d90ecb1ff"
      },
      "execution_count": null,
      "outputs": [
        {
          "output_type": "error",
          "ename": "TypeError",
          "evalue": "unsupported operand type(s) for +=: 'int' and 'NoneType'",
          "traceback": [
            "\u001b[0;31m---------------------------------------------------------------------------\u001b[0m",
            "\u001b[0;31mTypeError\u001b[0m                                 Traceback (most recent call last)",
            "\u001b[0;32m<ipython-input-82-7c2685df6c84>\u001b[0m in \u001b[0;36m<cell line: 18>\u001b[0;34m()\u001b[0m\n\u001b[1;32m     16\u001b[0m \u001b[0maksara\u001b[0m \u001b[0;34m=\u001b[0m \u001b[0mKaryawan\u001b[0m\u001b[0;34m(\u001b[0m\u001b[0;34m'Aksara'\u001b[0m\u001b[0;34m,\u001b[0m \u001b[0;36m25\u001b[0m\u001b[0;34m,\u001b[0m \u001b[0;36m8500000\u001b[0m\u001b[0;34m)\u001b[0m\u001b[0;34m\u001b[0m\u001b[0;34m\u001b[0m\u001b[0m\n\u001b[1;32m     17\u001b[0m \u001b[0maksara\u001b[0m\u001b[0;34m.\u001b[0m\u001b[0mlembur\u001b[0m\u001b[0;34m(\u001b[0m\u001b[0;34m)\u001b[0m\u001b[0;34m\u001b[0m\u001b[0;34m\u001b[0m\u001b[0m\n\u001b[0;32m---> 18\u001b[0;31m \u001b[0maksara\u001b[0m\u001b[0;34m.\u001b[0m\u001b[0mtambahan_proyek\u001b[0m\u001b[0;34m(\u001b[0m\u001b[0maksara\u001b[0m\u001b[0;34m.\u001b[0m\u001b[0mlembur\u001b[0m\u001b[0;34m(\u001b[0m\u001b[0;34m)\u001b[0m\u001b[0;34m)\u001b[0m\u001b[0;34m\u001b[0m\u001b[0;34m\u001b[0m\u001b[0m\n\u001b[0m\u001b[1;32m     19\u001b[0m \u001b[0mprint\u001b[0m\u001b[0;34m(\u001b[0m\u001b[0maksara\u001b[0m\u001b[0;34m.\u001b[0m\u001b[0mtotal_pendapatan\u001b[0m\u001b[0;34m(\u001b[0m\u001b[0;34m)\u001b[0m\u001b[0;34m)\u001b[0m\u001b[0;34m\u001b[0m\u001b[0;34m\u001b[0m\u001b[0m\n\u001b[1;32m     20\u001b[0m \u001b[0;34m\u001b[0m\u001b[0m\n",
            "\u001b[0;32m<ipython-input-82-7c2685df6c84>\u001b[0m in \u001b[0;36mtambahan_proyek\u001b[0;34m(self, insentif_proyek)\u001b[0m\n\u001b[1;32m     10\u001b[0m         \u001b[0mself\u001b[0m\u001b[0;34m.\u001b[0m\u001b[0m__pendapatan_tambahan\u001b[0m \u001b[0;34m+=\u001b[0m \u001b[0mself\u001b[0m\u001b[0;34m.\u001b[0m\u001b[0m__insentif_lembur\u001b[0m\u001b[0;34m\u001b[0m\u001b[0;34m\u001b[0m\u001b[0m\n\u001b[1;32m     11\u001b[0m     \u001b[0;32mdef\u001b[0m \u001b[0mtambahan_proyek\u001b[0m\u001b[0;34m(\u001b[0m\u001b[0mself\u001b[0m\u001b[0;34m,\u001b[0m \u001b[0minsentif_proyek\u001b[0m\u001b[0;34m)\u001b[0m\u001b[0;34m:\u001b[0m\u001b[0;34m\u001b[0m\u001b[0;34m\u001b[0m\u001b[0m\n\u001b[0;32m---> 12\u001b[0;31m         \u001b[0mself\u001b[0m\u001b[0;34m.\u001b[0m\u001b[0m__pendapatan_tambahan\u001b[0m \u001b[0;34m+=\u001b[0m \u001b[0minsentif_proyek\u001b[0m\u001b[0;34m\u001b[0m\u001b[0;34m\u001b[0m\u001b[0m\n\u001b[0m\u001b[1;32m     13\u001b[0m     \u001b[0;32mdef\u001b[0m \u001b[0mtotal_pendapatan\u001b[0m\u001b[0;34m(\u001b[0m\u001b[0mself\u001b[0m\u001b[0;34m)\u001b[0m\u001b[0;34m:\u001b[0m\u001b[0;34m\u001b[0m\u001b[0;34m\u001b[0m\u001b[0m\n\u001b[1;32m     14\u001b[0m         \u001b[0;32mreturn\u001b[0m \u001b[0mself\u001b[0m\u001b[0;34m.\u001b[0m\u001b[0m__pendapatan\u001b[0m \u001b[0;34m+\u001b[0m \u001b[0mself\u001b[0m\u001b[0;34m.\u001b[0m\u001b[0m__pendapatan_tambahan\u001b[0m\u001b[0;34m\u001b[0m\u001b[0;34m\u001b[0m\u001b[0m\n",
            "\u001b[0;31mTypeError\u001b[0m: unsupported operand type(s) for +=: 'int' and 'NoneType'"
          ]
        }
      ]
    }
  ],
  "metadata": {
    "colab": {
      "provenance": [],
      "authorship_tag": "ABX9TyNEiFBf5cZHv9Fkd1aYYMFM",
      "include_colab_link": true
    },
    "kernelspec": {
      "display_name": "Python 3",
      "name": "python3"
    },
    "language_info": {
      "name": "python"
    }
  },
  "nbformat": 4,
  "nbformat_minor": 0
}